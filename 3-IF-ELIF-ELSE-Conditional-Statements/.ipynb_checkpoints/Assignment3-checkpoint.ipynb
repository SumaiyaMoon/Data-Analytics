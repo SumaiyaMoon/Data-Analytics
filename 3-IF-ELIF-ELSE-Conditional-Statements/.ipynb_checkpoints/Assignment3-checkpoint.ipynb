{
 "cells": [
  {
   "cell_type": "markdown",
   "id": "03f141d9-5c2b-4f4a-b427-27171dc270df",
   "metadata": {},
   "source": [
    "### Question 1: Age Group Classification \n",
    "\n",
    "Write a Python program that takes the age of a person as input and classifies them into one of the following age groups:\n",
    "\n",
    "\"Child\" if the age is between 0 and 12 (inclusive).\n",
    "\n",
    "\"Teenager\" if the age is between 13 and 19 (inclusive).\n",
    "\n",
    "\"Adult\" if the age is between 20 and 64 (inclusive).\n",
    "\n",
    "\"Senior\" if the age is 65 or older.\n"
   ]
  },
  {
   "cell_type": "code",
   "execution_count": 16,
   "id": "7928d65c-7214-4813-9e14-a285308688af",
   "metadata": {},
   "outputs": [
    {
     "name": "stdin",
     "output_type": "stream",
     "text": [
      "Enter Age:  66\n"
     ]
    },
    {
     "name": "stdout",
     "output_type": "stream",
     "text": [
      "Senior\n"
     ]
    }
   ],
   "source": [
    "age = int(input(\"Enter Age: \" ))\n",
    "if 0<= age <= 12:\n",
    "    print(\"Child\")\n",
    "elif 13<= age <= 19:\n",
    "    print(\"Teenager\")\n",
    "elif 20<= age <=64:\n",
    "    print(\"adult\")\n",
    "elif age >= 65:\n",
    "    print('Senior')\n",
    "else:\n",
    "    print(\"Invalid Age\")"
   ]
  },
  {
   "cell_type": "markdown",
   "id": "47574930-5eed-4b65-be96-a679582f9840",
   "metadata": {},
   "source": [
    "### Q2. Email Validation \n",
    "Write a Python program that asks the user to enter an email address. The program should check if the email contains the characters @ and \".\" (ignoring case). If either character is present, print \"Email format is valid.\" Otherwise, print \"Invalid email format.\""
   ]
  },
  {
   "cell_type": "code",
   "execution_count": 38,
   "id": "c0500b52-d656-4d5b-bfc5-576355f75578",
   "metadata": {},
   "outputs": [
    {
     "name": "stdin",
     "output_type": "stream",
     "text": [
      "Enter email:  abc.123@gmail.com\n"
     ]
    },
    {
     "name": "stdout",
     "output_type": "stream",
     "text": [
      "Email format is valid\n"
     ]
    }
   ],
   "source": [
    "email = input(\"Enter email: \")\n",
    "if '@' in email and \".\" in email:\n",
    "    print(\"Email format is valid\")\n",
    "else:\n",
    "    print(\"Invalid Email format\")"
   ]
  },
  {
   "cell_type": "markdown",
   "id": "54e64c16-af10-45e1-bc0d-a37e38fbd6a5",
   "metadata": {},
   "source": [
    "### Q3. Largest of Three Numbers and Equality Check\n",
    "Write a Python program that takes three numbers as input and determines the largest among them. Also, check if any or all of the numbers are equal.\""
   ]
  },
  {
   "cell_type": "code",
   "execution_count": 60,
   "id": "991f2e36-9b58-43bb-8340-0fde652fb847",
   "metadata": {},
   "outputs": [
    {
     "name": "stdin",
     "output_type": "stream",
     "text": [
      "Enter First Number:  9\n",
      "Enter Second Number:  100\n",
      "Enter Third Number:  110\n"
     ]
    },
    {
     "name": "stdout",
     "output_type": "stream",
     "text": [
      "largest number is:  110\n",
      "All Numbers are different\n"
     ]
    }
   ],
   "source": [
    "num1 = int(input(\"Enter First Number: \"))\n",
    "num2 = int(input(\"Enter Second Number: \"))\n",
    "num3 = int(input(\"Enter Third Number: \"))\n",
    "\n",
    "largest = max(num1,num2,num3)\n",
    "print(\"largest number is: \", largest)\n",
    "\n",
    "if num1 == num2 == num3:\n",
    "    print(\"All Numbers are Equal\")\n",
    "elif num1==num2:\n",
    "    print(\"num1 and num2 are equal\")\n",
    "elif num2==num3:\n",
    "    print(\"num2 and num3 are equal\") \n",
    "elif num1==num3:\n",
    "    print(\"num1 and num3 are equal\")\n",
    "else:\n",
    "    print(\"All Numbers are different\")"
   ]
  },
  {
   "cell_type": "markdown",
   "id": "328e3951-ada8-4976-b450-d56489497552",
   "metadata": {},
   "source": [
    "### Q4. Check Number\n",
    "Write a Python program that:\n",
    "\n",
    "Asks the user to enter a number.\n",
    "\n",
    "Checks whether the number is positive.\n",
    "\n",
    "If yes, further check if it's even or odd.\n",
    "\n",
    "Print \"The number is positive and even\" if divisible by 2.\n",
    "\n",
    "Print \"The number is positive and odd\" if not divisible by 2.\n",
    "\n",
    "If the number is zero or negative, print \"The number is not positive\".\n",
    "\n"
   ]
  },
  {
   "cell_type": "code",
   "execution_count": 74,
   "id": "30a8da56-bfd9-4a5f-ab4e-151d83ef565e",
   "metadata": {},
   "outputs": [
    {
     "name": "stdin",
     "output_type": "stream",
     "text": [
      "Enter Number:  563\n"
     ]
    },
    {
     "name": "stdout",
     "output_type": "stream",
     "text": [
      "The number is positive and odd\n"
     ]
    }
   ],
   "source": [
    "number = int(input(\"Enter Number: \"))\n",
    "if number > 0:\n",
    "    if number%2 == 0:\n",
    "        print(\"The number is positive and even\")\n",
    "    else:\n",
    "        print(\"The number is positive and odd\")\n",
    "else:\n",
    "    print(\"The number is not positive\")"
   ]
  },
  {
   "cell_type": "markdown",
   "id": "6ccd80a7-d68f-4840-b8b5-3871323c4675",
   "metadata": {},
   "source": [
    "### Q5. Credentials Validation \n",
    "Ask the user for a username and password. Check if the username is correct. If it is, then check if the password is correct. If both are correct, print \"Access granted\".\n",
    "\n",
    "username = \"admin\"\n",
    "\n",
    "password = \"1234\""
   ]
  },
  {
   "cell_type": "code",
   "execution_count": 85,
   "id": "45fbba22-cc0f-46cf-94b6-68458c480098",
   "metadata": {},
   "outputs": [
    {
     "name": "stdin",
     "output_type": "stream",
     "text": [
      "Enter Username:  admin\n",
      "Enter Password:  1234\n"
     ]
    },
    {
     "name": "stdout",
     "output_type": "stream",
     "text": [
      "Access Granted\n"
     ]
    }
   ],
   "source": [
    "username = \"admin\"\n",
    "password = \"1234\"\n",
    "inputUserName = input(\"Enter Username: \")\n",
    "inputPassword = input(\"Enter Password: \")\n",
    "if inputUserName==username and inputPassword==password:\n",
    "    print(\"Access Granted\")\n",
    "else:\n",
    "    print(\"Access Denied\")"
   ]
  },
  {
   "cell_type": "markdown",
   "id": "45bceb45-fc8f-4354-8dac-e983cc16a7e5",
   "metadata": {},
   "source": [
    "### Q6. Check Value in Tuple\n",
    "Take an integer input from the user and check whether the entered value exists in the tuple my_tuple = (5, 10, 15, 20, 25). Print an appropriate message based on the result."
   ]
  },
  {
   "cell_type": "code",
   "execution_count": 91,
   "id": "d63cf3de-d28d-4470-a52f-573f11f22c64",
   "metadata": {},
   "outputs": [
    {
     "name": "stdin",
     "output_type": "stream",
     "text": [
      "Enter Integer:  20\n"
     ]
    },
    {
     "name": "stdout",
     "output_type": "stream",
     "text": [
      "20 exists in the tuple\n"
     ]
    }
   ],
   "source": [
    "my_tuple = (5, 10, 15, 20, 25)\n",
    "integerInput = int(input(\"Enter Integer: \"))\n",
    "if integerInput in my_tuple:\n",
    "    print(integerInput, \"exists in the tuple\")\n",
    "else:\n",
    "    print(integerInput, \"does not exist in the tuple\")"
   ]
  },
  {
   "cell_type": "markdown",
   "id": "18b2f279-1c0f-42ce-b07c-13e5032d91ed",
   "metadata": {},
   "source": [
    "### Q7. Packing in Tuple\n",
    "Create a program that takes the user's first name, last name, and age as input, packs them into a tuple, and prints the tuple."
   ]
  },
  {
   "cell_type": "code",
   "execution_count": 15,
   "id": "b37f3682-738a-45e6-8911-da7b66213bc0",
   "metadata": {},
   "outputs": [
    {
     "name": "stdin",
     "output_type": "stream",
     "text": [
      "Enter First Name:  John\n",
      "Enter Last Name:  Doe\n",
      "Enter Age:  15\n"
     ]
    },
    {
     "name": "stdout",
     "output_type": "stream",
     "text": [
      "User Bio:  ('John', 'Doe', 15)\n"
     ]
    }
   ],
   "source": [
    "firstName = input(\"Enter First Name: \")\n",
    "lastName = input(\"Enter Last Name: \")\n",
    "age = int(input(\"Enter Age: \"))\n",
    "userBio = (firstName, lastName, age)\n",
    "print(\"User Bio: \", userBio)"
   ]
  },
  {
   "cell_type": "markdown",
   "id": "9d753dc0-5e55-4366-8671-7cd51e5d8c98",
   "metadata": {},
   "source": [
    "### Q8. Unpacking in Tuple \n",
    "Given the tuple coordinates = (4, 5, 6), unpack the elements of the tuple into three variables x, y, and z. Then, calculate and print the sum of the variables."
   ]
  },
  {
   "cell_type": "code",
   "execution_count": 48,
   "id": "a833d4b9-8f8d-4f03-936c-91557051c831",
   "metadata": {},
   "outputs": [
    {
     "name": "stdout",
     "output_type": "stream",
     "text": [
      "Sum of coordinates: 15\n"
     ]
    }
   ],
   "source": [
    "coordinates = (4, 5, 6)\n",
    "x, y, z = coordinates\n",
    "total = x + y + z\n",
    "print(\"Sum of coordinates:\", total)"
   ]
  },
  {
   "cell_type": "markdown",
   "id": "8bc3c596-768b-4b01-ad6b-d496a1a2f7a6",
   "metadata": {},
   "source": [
    "### Q9. Remove Element From Tuple\n",
    "Given the tuple my_tuple = (1, 2, 3, 4, 5), remove the element 3 from the tuple by first converting it to a list, and then print the resulting tuple."
   ]
  },
  {
   "cell_type": "code",
   "execution_count": 38,
   "id": "d7075473-1e1a-4abb-8810-8b6f2665d5bc",
   "metadata": {},
   "outputs": [
    {
     "name": "stdout",
     "output_type": "stream",
     "text": [
      "Resulting Tuple: (1, 2, 4, 5)\n"
     ]
    }
   ],
   "source": [
    "my_tuple = (1, 2, 3, 4, 5)\n",
    "listTuple = list(my_tuple)\n",
    "listTuple.remove(3)\n",
    "newTuple = tuple(listTuple)\n",
    "print(\"Resulting Tuple:\", newTuple)"
   ]
  },
  {
   "cell_type": "markdown",
   "id": "ac18c2ee-b419-45cf-acbd-5d31c33ca4f3",
   "metadata": {},
   "source": [
    "### Q10. Max and Min Values in Tuple\n",
    "Given the tuple numbers = (10, 20, 5, 30, 15), find and print the maximum and minimum values in the tuple."
   ]
  },
  {
   "cell_type": "code",
   "execution_count": 52,
   "id": "72cd4bd5-cdbb-4154-94fb-f52496ebd906",
   "metadata": {},
   "outputs": [
    {
     "name": "stdout",
     "output_type": "stream",
     "text": [
      "Maximum value: 30\n",
      "Minimum value: 5\n"
     ]
    }
   ],
   "source": [
    "numbers = (10, 20, 5, 30, 15)\n",
    "print(\"Maximum value:\", max(numbers))\n",
    "print(\"Minimum value:\", min(numbers))"
   ]
  }
 ],
 "metadata": {
  "kernelspec": {
   "display_name": "Python [conda env:base] *",
   "language": "python",
   "name": "conda-base-py"
  },
  "language_info": {
   "codemirror_mode": {
    "name": "ipython",
    "version": 3
   },
   "file_extension": ".py",
   "mimetype": "text/x-python",
   "name": "python",
   "nbconvert_exporter": "python",
   "pygments_lexer": "ipython3",
   "version": "3.12.7"
  }
 },
 "nbformat": 4,
 "nbformat_minor": 5
}
