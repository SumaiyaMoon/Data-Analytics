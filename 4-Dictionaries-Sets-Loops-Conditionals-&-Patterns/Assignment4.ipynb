{
 "cells": [
  {
   "cell_type": "markdown",
   "id": "8cb121b4-968d-4a87-96c4-1d29eb802927",
   "metadata": {},
   "source": [
    "### Q1. Nested Dictionary\n",
    "\n",
    "An e-commerce store stores information about its products in a nested dictionary. The outer dictionary uses product IDs as keys, and the inner dictionary stores product details like name, category, price, and stock quantity. products = { 101: {\"name\": \"Laptop\", \"category\": \"Electronics\", \"price\": 1200, \"stock\": 50}, 102: {\"name\": \"Shirt\", \"category\": \"Apparel\", \"price\": 25, \"stock\": 200}, 103: {\"name\": \"Coffee Maker\", \"category\": \"Home Appliances\", \"price\": 80, \"stock\": 30} }\n",
    "\n",
    "• Increase the stock of the \"Shirt\" product (add 50 more units)\n",
    "\n",
    "• Add a new product (e.g., \"Smartphone\")"
   ]
  },
  {
   "cell_type": "code",
   "execution_count": 41,
   "id": "98b72231-37ec-4bb9-92ca-f1ad04fc9ff3",
   "metadata": {},
   "outputs": [
    {
     "name": "stdout",
     "output_type": "stream",
     "text": [
      "stock increased by 50: 250\n",
      "101 {'name': 'Laptop', 'category': 'Electronics', 'price': 1200, 'stock': 50}\n",
      "102 {'name': 'Shirt', 'category': 'Apparel', 'price': 25, 'stock': 250}\n",
      "103 {'name': 'Coffee Maker', 'category': 'Home Appliances', 'price': 80, 'stock': 30}\n",
      "104 {'name': 'Smartphone', 'category': 'Electronics', 'price': 30000, 'stock': 50}\n"
     ]
    }
   ],
   "source": [
    " products = { \n",
    "     101: {\"name\": \"Laptop\", \"category\": \"Electronics\", \"price\": 1200, \"stock\": 50}, \n",
    "     102: {\"name\": \"Shirt\", \"category\": \"Apparel\", \"price\": 25, \"stock\": 200}, \n",
    "     103: {\"name\": \"Coffee Maker\", \"category\": \"Home Appliances\", \"price\": 80, \"stock\": 30} \n",
    " }\n",
    "\n",
    "products[102]['stock'] += 50\n",
    "print(\"stock increased by 50:\", products[102]['stock'])\n",
    "\n",
    "products[104] = {\n",
    "    \"name\": \"Smartphone\",\n",
    "    \"category\": \"Electronics\",\n",
    "    \"price\": 30000,\n",
    "    \"stock\": 50\n",
    "}\n",
    "\n",
    "for i in products:\n",
    "    print(i, products[i])"
   ]
  },
  {
   "cell_type": "markdown",
   "id": "e44c8fd9-5589-4746-afc0-ac072c2b6b5e",
   "metadata": {},
   "source": [
    "### Q2. Remove Duplicates\n",
    "\n",
    "You are given a list that contains some duplicate items. Remove the duplicates\n",
    "\n",
    "shopping_list = [\"apple\", \"banana\", \"apple\", \"orange\", \"banana\", \"grape\"]"
   ]
  },
  {
   "cell_type": "code",
   "execution_count": 7,
   "id": "4f807568-7e12-41c7-84fb-4a549bfcb0e5",
   "metadata": {},
   "outputs": [
    {
     "name": "stdout",
     "output_type": "stream",
     "text": [
      "Removed Duplicates: ['orange', 'banana', 'grape', 'apple']\n"
     ]
    }
   ],
   "source": [
    "shopping_list = [\"apple\", \"banana\", \"apple\", \"orange\", \"banana\", \"grape\"]\n",
    "\n",
    "shopping_set = set(shopping_list)\n",
    "new_list = list(shopping_set)\n",
    "print(\"Removed Duplicates:\", new_list)"
   ]
  },
  {
   "cell_type": "markdown",
   "id": "6cf0b99b-80a3-428c-b35c-5f0766e5cb6d",
   "metadata": {},
   "source": [
    "### Q3. Set Operations\n",
    "\n",
    "You are managing a list of students enrolled in two different courses. You need to perform various set operations to understand the student enrollment.\n",
    "\n",
    "\n",
    "\n",
    "#### Task: \n",
    "Create two sets: one for students in \"Course A\" and one for students in \"Course B\". \n",
    "\n",
    "Find the students who are in \"Course A\" but not in \"Course B\" (difference). \n",
    "\n",
    "Find students who are only in one of the two courses (symmetric difference). \n",
    "\n",
    "course_a = {\"John\", \"Alice\", \"Bob\", \"David\"} \n",
    "\n",
    "course_b = {\"Alice\", \"Eve\", \"Charlie\", \"David\"}\n",
    "\n",
    "• Find students who are in Course A but not in Course B (difference)\n",
    "\n",
    "• Find students who are only in one of the two courses (symmetric difference)"
   ]
  },
  {
   "cell_type": "code",
   "execution_count": 9,
   "id": "a9684868-a568-4a72-a8b5-7c39ce33b40e",
   "metadata": {},
   "outputs": [
    {
     "name": "stdout",
     "output_type": "stream",
     "text": [
      "{'Bob', 'John'}\n",
      "{'Bob', 'John'}\n",
      "{'John', 'Charlie', 'Bob', 'Eve'}\n",
      "{'John', 'Charlie', 'Bob', 'Eve'}\n"
     ]
    }
   ],
   "source": [
    "course_a = {\"John\", \"Alice\", \"Bob\", \"David\"} \n",
    "course_b = {\"Alice\", \"Eve\", \"Charlie\", \"David\"}\n",
    "\n",
    "# A-B = (1,2,3)-(2,3,4) = (1)\n",
    "print(course_a - course_b)\n",
    "#method\n",
    "print(course_a.difference(course_b))\n",
    "\n",
    "#using caret operator\n",
    "print(course_a ^ course_b)\n",
    "#using method of symmetricdiff\n",
    "print(course_a.symmetric_difference(course_b))"
   ]
  },
  {
   "cell_type": "markdown",
   "id": "6d6a3cb4-57b9-4c4a-ad30-e1a60fd704f3",
   "metadata": {},
   "source": [
    "### Q4.  Sum of Even Numbers\n",
    "\n",
    "Write a Python program that calculates the sum of all even numbers between 1 and 50 (inclusive) using a for loop.\n",
    "\n",
    "Hint\n",
    "\n",
    "- Initialize a variable to hold the sum (e.g., sum_of_evens).\n",
    "- Use a for loop to iterate through all numbers from 1 to 50.\n",
    "- Inside the loop, check if the number is even.\n",
    "- If the number is even, add it to sum_of_evens.\n",
    "- After the loop finishes, print the total sum of all even numbers between 1 and 50."
   ]
  },
  {
   "cell_type": "code",
   "execution_count": 11,
   "id": "1e80857f-8533-4efa-8970-364469b16357",
   "metadata": {},
   "outputs": [
    {
     "name": "stdout",
     "output_type": "stream",
     "text": [
      "Sum of even numbers b/w 1 and 50: 650\n"
     ]
    }
   ],
   "source": [
    "sum_of_evens = 0\n",
    "for x in range(1,51):\n",
    "    if x%2==0:\n",
    "        sum_of_evens += x\n",
    "print(\"Sum of even numbers b/w 1 and 50:\", sum_of_evens)\n",
    "        \n",
    "    "
   ]
  },
  {
   "cell_type": "markdown",
   "id": "eab350a8-35c2-4c8f-89ed-7d5cbc0edbd8",
   "metadata": {},
   "source": [
    "### Q5. Power of a Number (While Loop)\n",
    "Power of a Number Write a Python program that takes a number and prints the powers of the number (starting from 1 to 10) using a while loop. For example, if the user inputs 3, the output should be:\n",
    "\n",
    "3^1 = 3\n",
    "\n",
    "3^2 = 9\n",
    "\n",
    "3^3 = 27\n",
    "\n",
    "... up to 3^10."
   ]
  },
  {
   "cell_type": "code",
   "execution_count": 13,
   "id": "33addbc9-3d62-49b1-9b00-93fb801bd520",
   "metadata": {},
   "outputs": [
    {
     "name": "stdin",
     "output_type": "stream",
     "text": [
      "Enter Number: 3\n"
     ]
    },
    {
     "name": "stdout",
     "output_type": "stream",
     "text": [
      "3 ^ 1 = 3\n",
      "3 ^ 2 = 9\n",
      "3 ^ 3 = 27\n",
      "3 ^ 4 = 81\n",
      "3 ^ 5 = 243\n",
      "3 ^ 6 = 729\n",
      "3 ^ 7 = 2187\n",
      "3 ^ 8 = 6561\n",
      "3 ^ 9 = 19683\n",
      "3 ^ 10 = 59049\n"
     ]
    }
   ],
   "source": [
    "number = int(input(\"Enter Number:\"))\n",
    "count = 1\n",
    "while count<=10:\n",
    "    i= number**count\n",
    "    print(number, \"^\", count, \"=\", i)\n",
    "    count +=1\n",
    "    "
   ]
  },
  {
   "cell_type": "markdown",
   "id": "bd719533-cc6f-45a4-a604-26adc118a749",
   "metadata": {},
   "source": [
    "### Q6. Countdown\n",
    "\n",
    "Problem Statement: Write a Python program that takes an integer input from the user and counts down from that number to 0. The program should display the current number at each step until it reaches 0, at which point it should print a message indicating the countdown is finished\n",
    "\n",
    "Output Hint:\n",
    "\n",
    "Enter a number to start the countdown: 3\n",
    "\n",
    "3\n",
    "\n",
    "2\n",
    "\n",
    "1\n",
    "\n",
    "0\n",
    "\n",
    "Countdown finished!"
   ]
  },
  {
   "cell_type": "code",
   "execution_count": 15,
   "id": "931df0f6-e8dd-413a-aac9-3f11da3ec41c",
   "metadata": {},
   "outputs": [
    {
     "name": "stdin",
     "output_type": "stream",
     "text": [
      "Enter a Number to start the countdown: 3\n"
     ]
    },
    {
     "name": "stdout",
     "output_type": "stream",
     "text": [
      "3\n",
      "2\n",
      "1\n",
      "0\n",
      "Countdown finished!\n"
     ]
    }
   ],
   "source": [
    "count = int(input(\"Enter a Number to start the countdown:\"))\n",
    "while count >=0 :\n",
    "    print(count)\n",
    "    count -= 1\n",
    "print(\"Countdown finished!\")"
   ]
  },
  {
   "cell_type": "markdown",
   "id": "61c506ea-6b0d-40c3-aec7-96845c1369d4",
   "metadata": {},
   "source": [
    "### Q7. Factorial (For Loop)\n",
    "\n",
    "Write a Python program that takes a number as input from the user and calculates its factorial using a for loop. The program should display the result to the user.\n",
    "\n",
    "Example Input/Output:\n",
    "\n",
    "Input:\n",
    "5\n",
    "\n",
    "Output:\n",
    "The factorial of 5 is 120"
   ]
  },
  {
   "cell_type": "code",
   "execution_count": 17,
   "id": "7ad30ace-9ba4-4f3f-add7-88a42974978d",
   "metadata": {},
   "outputs": [
    {
     "name": "stdin",
     "output_type": "stream",
     "text": [
      "Enter a number:  5\n"
     ]
    },
    {
     "name": "stdout",
     "output_type": "stream",
     "text": [
      "The factorial of 5 is 120\n"
     ]
    }
   ],
   "source": [
    "num = int(input(\"Enter a number: \"))\n",
    "factorial = 1\n",
    "for i in range(1, num + 1):\n",
    "    factorial *= i\n",
    "print(f\"The factorial of {num} is {factorial}\")\n"
   ]
  },
  {
   "cell_type": "markdown",
   "id": "869efa02-bced-4a46-a7ef-1b3e3d68df4d",
   "metadata": {},
   "source": [
    "### Q8. Assigning values in dictionary\n",
    "\n",
    "Create an empty dictionary called person_info.\n",
    "\n",
    "Assign the following key-value pairs to the dictionary:\n",
    "\n",
    "\"name\": \"Alice\"\n",
    "\n",
    "\"age\": 25\n",
    "\n",
    "\"occupation\": \"Engineer\"\n",
    "\n",
    "After assigning the values, print the dictionary."
   ]
  },
  {
   "cell_type": "code",
   "execution_count": 19,
   "id": "47f32b94-5a5d-4bc2-b73b-cabe45e5a019",
   "metadata": {},
   "outputs": [
    {
     "name": "stdout",
     "output_type": "stream",
     "text": [
      "{'name': 'Alice', 'age': 25, 'Occupation': 'Engineer'}\n"
     ]
    }
   ],
   "source": [
    "personal_info ={}\n",
    "personal_info[\"name\"]=\"Alice\"\n",
    "personal_info[\"age\"]=25\n",
    "personal_info[\"Occupation\"]=\"Engineer\"\n",
    "print(personal_info)"
   ]
  },
  {
   "cell_type": "markdown",
   "id": "dd85f2a3-0252-4a5c-b594-9d855abcf8e4",
   "metadata": {},
   "source": [
    "### Q9. Triangle Pattern\n",
    "Printing a right-angled triangle pattern (with NESTED while loop)"
   ]
  },
  {
   "cell_type": "code",
   "execution_count": 21,
   "id": "63d2c400-b1a2-4413-876b-163e2c9a3731",
   "metadata": {},
   "outputs": [],
   "source": [
    "# * \n",
    "# * * \n",
    "# * * * \n",
    "# * * * * \n",
    "# * * * * * "
   ]
  },
  {
   "cell_type": "code",
   "execution_count": 22,
   "id": "68e4be05-5557-4fc5-8805-096e050ccb63",
   "metadata": {},
   "outputs": [
    {
     "name": "stdout",
     "output_type": "stream",
     "text": [
      "* \n",
      "* * \n",
      "* * * \n",
      "* * * * \n",
      "* * * * * \n"
     ]
    }
   ],
   "source": [
    "rows = 5\n",
    "i = 1\n",
    "while i <= rows:\n",
    "    j = 1\n",
    "    while j <= i:\n",
    "        print(\"*\", end=\" \")\n",
    "        j += 1\n",
    "    print()\n",
    "    i += 1\n"
   ]
  },
  {
   "cell_type": "markdown",
   "id": "2e593638-b5ae-4322-befa-0138da647774",
   "metadata": {},
   "source": [
    "### Q10. Continue and Break\n",
    "\n",
    "Write a Python program that does the following:\n",
    "\n",
    "Range: Loop through numbers from 1 to 20 (inclusive).\n",
    "\n",
    "Continue: If the number is divisible by 4, skip that iteration and move to the next number.\n",
    "\n",
    "Break: If the number is divisible by 7, stop the loop entirely.\n",
    "\n",
    "For all other numbers, print the number."
   ]
  },
  {
   "cell_type": "code",
   "execution_count": 39,
   "id": "9d044cfe-5df8-400d-99cf-6f7621aa00d5",
   "metadata": {},
   "outputs": [
    {
     "name": "stdout",
     "output_type": "stream",
     "text": [
      "1\n",
      "2\n",
      "3\n",
      "5\n",
      "6\n"
     ]
    }
   ],
   "source": [
    "for num in range(1, 21):\n",
    "    if num%4== 0:\n",
    "        continue\n",
    "    if num%7== 0:\n",
    "        break\n",
    "    print(num)\n"
   ]
  },
  {
   "cell_type": "code",
   "execution_count": null,
   "id": "df508488-e1ed-4212-a410-5507c7c2d766",
   "metadata": {},
   "outputs": [],
   "source": []
  }
 ],
 "metadata": {
  "kernelspec": {
   "display_name": "Python [conda env:base] *",
   "language": "python",
   "name": "conda-base-py"
  },
  "language_info": {
   "codemirror_mode": {
    "name": "ipython",
    "version": 3
   },
   "file_extension": ".py",
   "mimetype": "text/x-python",
   "name": "python",
   "nbconvert_exporter": "python",
   "pygments_lexer": "ipython3",
   "version": "3.12.7"
  }
 },
 "nbformat": 4,
 "nbformat_minor": 5
}
