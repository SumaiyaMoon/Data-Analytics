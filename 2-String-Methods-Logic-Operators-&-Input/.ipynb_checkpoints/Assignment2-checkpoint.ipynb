{
 "cells": [
  {
   "cell_type": "markdown",
   "id": "62879ea9-b82f-443b-8240-c9844b5ef7d9",
   "metadata": {},
   "source": [
    "### String Methods "
   ]
  },
  {
   "cell_type": "markdown",
   "id": "933b9ef2-3b82-470a-b361-6661faf74dad",
   "metadata": {},
   "source": [
    "1- text = 'hello python world'\n",
    "\n",
    "Replace spaces with underscores in the string (e.g., \"hello python world\" → \"hello_python_world\").\n",
    "\n",
    "Split the modified string (e.g., \"hello_python_world\" → ['hello', 'python', 'world']).\n",
    "\n",
    "Join the list elements with a hyphen (-) between them (e.g., ['hello', 'python', 'world'] → \"hello-python-world\").\n",
    "\n",
    "##### Print all three results\n",
    "\n",
    "Hint: Use string methods"
   ]
  },
  {
   "cell_type": "code",
   "execution_count": 41,
   "id": "045279ff-a2b1-43e5-8b7c-a7d18c31f60a",
   "metadata": {},
   "outputs": [
    {
     "name": "stdout",
     "output_type": "stream",
     "text": [
      "Replace  hello_python_world\n",
      "Split  ['hello', 'python', 'world']\n",
      "Join  hello-python-world\n"
     ]
    }
   ],
   "source": [
    "text = 'hello python world' \n",
    "\n",
    "textReplace = text.replace(\" \",\"_\")\n",
    "print(\"Replace \", textReplace)\n",
    "\n",
    "textSplit = textReplace.split(\"_\")\n",
    "print(\"Split \", textSplit)\n",
    "\n",
    "textJoin = \"-\".join(textSplit)\n",
    "print(\"Join \", textJoin)\n"
   ]
  },
  {
   "cell_type": "markdown",
   "id": "284caa03-8535-4714-b387-690bb0ed970a",
   "metadata": {},
   "source": [
    "### Operators"
   ]
  },
  {
   "cell_type": "markdown",
   "id": "355ee350-4e78-4ebc-ab0c-655e63b37571",
   "metadata": {},
   "source": [
    "##### 2- Check if a string has more than 5 characters. Return True/False\n",
    "\n",
    "word = \"Javascript\""
   ]
  },
  {
   "cell_type": "code",
   "execution_count": 44,
   "id": "f4a06099-a203-4041-a3f1-709442004aa2",
   "metadata": {},
   "outputs": [
    {
     "name": "stdout",
     "output_type": "stream",
     "text": [
      "True\n"
     ]
    }
   ],
   "source": [
    "word = \"Javascript\"\n",
    "length = len(word)\n",
    "print(length>5)"
   ]
  },
  {
   "cell_type": "markdown",
   "id": "8ff32531-ee70-4b75-abe0-5d668e548a41",
   "metadata": {},
   "source": [
    "##### 3- Check if a number is even and greater than 10. Return True/False\n",
    "\n",
    "num2 = 12"
   ]
  },
  {
   "cell_type": "code",
   "execution_count": 46,
   "id": "644c1002-82a0-4222-999f-1bee42b89a53",
   "metadata": {},
   "outputs": [
    {
     "name": "stdout",
     "output_type": "stream",
     "text": [
      "True\n"
     ]
    }
   ],
   "source": [
    "num2 = 12\n",
    "print(num2 % 2 == 0 and num2 > 10)"
   ]
  },
  {
   "cell_type": "markdown",
   "id": "76b2fdd1-08ec-4e92-a6b0-498af52ae99c",
   "metadata": {},
   "source": [
    "##### 4- Check if a number is less than 5 or greater than 20. Return True/False\n",
    "\n",
    "num3 = 3"
   ]
  },
  {
   "cell_type": "code",
   "execution_count": 48,
   "id": "62de612c-31e5-4b57-beeb-f53248060197",
   "metadata": {},
   "outputs": [
    {
     "name": "stdout",
     "output_type": "stream",
     "text": [
      "True\n"
     ]
    }
   ],
   "source": [
    "num3 = 3 \n",
    "print (num3 < 5 or num3 > 20)"
   ]
  },
  {
   "cell_type": "markdown",
   "id": "7cbccc21-1b9b-4317-8a90-a2e31a75cb2c",
   "metadata": {},
   "source": [
    "##### 5- Check if a person’s age is between 18 and 65 and if they have a valid ID\n",
    "\n",
    "age = 25\n",
    "has_id = True"
   ]
  },
  {
   "cell_type": "code",
   "execution_count": 50,
   "id": "64c61c0b-cb78-412f-9e67-0bc228d2b417",
   "metadata": {},
   "outputs": [
    {
     "name": "stdout",
     "output_type": "stream",
     "text": [
      "True\n"
     ]
    }
   ],
   "source": [
    "age= 25 \n",
    "has_id = True\n",
    "print (18 <= age <= 65 and has_id)"
   ]
  },
  {
   "cell_type": "markdown",
   "id": "f4e00c34-b995-4fbf-84f7-47debc9ce5d7",
   "metadata": {},
   "source": [
    "##### 6-Write a script to check if a string starts with (http://) or (https://)\n",
    "\n",
    "url = \"https://www.example.com\""
   ]
  },
  {
   "cell_type": "code",
   "execution_count": 52,
   "id": "a002d1f1-92ae-42eb-8c07-f301dcde0273",
   "metadata": {},
   "outputs": [
    {
     "name": "stdout",
     "output_type": "stream",
     "text": [
      "True\n"
     ]
    }
   ],
   "source": [
    "url = \"https://www.example.com\"\n",
    "print(url.startswith(\"http://\") or url.startswith(\"https://\"))"
   ]
  },
  {
   "cell_type": "markdown",
   "id": "434e38c2-01ef-4dbd-abd1-9993b4f58d47",
   "metadata": {},
   "source": [
    "##### 7- Write a script that applies a 10% discount to an item's price. (Using Assignment Operator)\n",
    "\n",
    "price = 100"
   ]
  },
  {
   "cell_type": "code",
   "execution_count": 54,
   "id": "f34b0631-7055-48b6-8937-99f0a3ac661c",
   "metadata": {},
   "outputs": [
    {
     "name": "stdout",
     "output_type": "stream",
     "text": [
      "90.0\n"
     ]
    }
   ],
   "source": [
    "price = 100\n",
    "price *= 0.9\n",
    "print(price)"
   ]
  },
  {
   "cell_type": "markdown",
   "id": "9500cdff-f363-4f58-b580-12dcf8a37e30",
   "metadata": {},
   "source": [
    "##### 8- You are managing different customer lists for a subscription service, check if alice@example.com is our both premium and basic customer\n",
    "\n",
    "premium_customers = [\"alice@example.com\", \"charlie@example.com\", \"bob@example.com\"]\n",
    "\n",
    "basic_customers = [\"alex@example.com\", \"david@example.com\", \"chloe@example.com\"]"
   ]
  },
  {
   "cell_type": "code",
   "execution_count": 56,
   "id": "8a692e7c-e9d1-483a-a689-1815c18ecea4",
   "metadata": {},
   "outputs": [
    {
     "name": "stdout",
     "output_type": "stream",
     "text": [
      "False\n"
     ]
    }
   ],
   "source": [
    "premium_customers = [\"alice@example.com\", \"charlie@example.com\", \"bob@example.com\"]\n",
    "basic_customers = [\"alex@example.com\", \"david@example.com\", \"chloe@example.com\"]\n",
    "email = \"alice@example.com\"\n",
    "print(email in premium_customers and email in basic_customers)"
   ]
  },
  {
   "cell_type": "markdown",
   "id": "a6bd72ed-c289-4acd-bcdc-05f8aaf9d842",
   "metadata": {},
   "source": [
    "### Password Validation Program"
   ]
  },
  {
   "cell_type": "markdown",
   "id": "f1f6675f-2d72-487a-aa07-caf01b7b1403",
   "metadata": {},
   "source": [
    "##### 9. Write a Python program that prompts the user to enter a password and returns True or False based on the following checks:\n",
    "\n",
    "Whether the string contains any uppercase characters.\n",
    "\n",
    "Whether the string contains any lowercase characters.\n",
    "\n",
    "Whether the string contains any spaces.\n",
    "\n",
    "Whether the string contains any special characters (anything other than letters, digits, and spaces).\n",
    "\n",
    "\n",
    "\n",
    "Hint: Use Input function and string methods\n"
   ]
  },
  {
   "cell_type": "code",
   "execution_count": 59,
   "id": "2724d2d0-1c6d-4135-b33e-5ee5e01bb41b",
   "metadata": {},
   "outputs": [
    {
     "name": "stdin",
     "output_type": "stream",
     "text": [
      "Enter Password:  Abc$123\n"
     ]
    },
    {
     "name": "stdout",
     "output_type": "stream",
     "text": [
      "Valid password:  True\n"
     ]
    }
   ],
   "source": [
    "password = input(\"Enter Password: \")\n",
    "has_upper = any(c.isupper() for c in password)\n",
    "has_lower = any(c.islower() for c in password)\n",
    "has_space = \" \" in password\n",
    "has_specialChar = any(not c.isalnum() for c in password)\n",
    "isValid = has_upper and has_lower and not has_space and has_specialChar\n",
    "print(\"Valid password: \", isValid)"
   ]
  },
  {
   "cell_type": "markdown",
   "id": "fd5cc4f4-0fa1-4ce8-9152-627935738175",
   "metadata": {},
   "source": [
    "### Product Code Parsing"
   ]
  },
  {
   "cell_type": "markdown",
   "id": "452b4a7d-09ac-4848-b0fe-dcb0576b4085",
   "metadata": {},
   "source": [
    "##### 10- You have a product code that follows the format \"SKU-12345-XYZ\". \n",
    "\n",
    "Find the first position of the dash (-).\n",
    "\n",
    "Count the number of dashes (-) in the product code.\n",
    "\n",
    "Remove the \"SKU-\" prefix and \"-XYZ\" suffix from the product code, Extract the numeric part 12345\n",
    "\n",
    "Hint: Use String Methods"
   ]
  },
  {
   "cell_type": "code",
   "execution_count": 62,
   "id": "dbfd17ec-12fc-4704-9499-378c1e5f071e",
   "metadata": {},
   "outputs": [
    {
     "name": "stdout",
     "output_type": "stream",
     "text": [
      "position of first dash:  3\n",
      "all dashes in product code:  2\n",
      "extracted SKU number 12345\n"
     ]
    }
   ],
   "source": [
    "_SKU = \"SKU-12345-XYZ\"\n",
    "firstDash = _SKU.find(\"-\")\n",
    "print(\"position of first dash: \",firstDash)\n",
    "allDashCount = _SKU.count(\"-\")\n",
    "print(\"all dashes in product code: \",allDashCount)\n",
    "skuNumber= _SKU.removeprefix(\"SKU-\").removesuffix(\"-XYZ\")\n",
    "print(\"extracted SKU number\",skuNumber)"
   ]
  }
 ],
 "metadata": {
  "kernelspec": {
   "display_name": "Python [conda env:base] *",
   "language": "python",
   "name": "conda-base-py"
  },
  "language_info": {
   "codemirror_mode": {
    "name": "ipython",
    "version": 3
   },
   "file_extension": ".py",
   "mimetype": "text/x-python",
   "name": "python",
   "nbconvert_exporter": "python",
   "pygments_lexer": "ipython3",
   "version": "3.12.7"
  }
 },
 "nbformat": 4,
 "nbformat_minor": 5
}
