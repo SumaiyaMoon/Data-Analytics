{
 "cells": [
  {
   "cell_type": "markdown",
   "id": "1410e67c-ee4d-474d-bc8c-162b44f23e97",
   "metadata": {},
   "source": [
    "### Arithmetic Operations"
   ]
  },
  {
   "cell_type": "raw",
   "id": "a9f1d74a-5f32-43c5-8803-6c48be7211a8",
   "metadata": {},
   "source": [
    "1. Write a program that takes two numbers (a = 15 , b = 4) and prints their:\n",
    "Sum, Difference, Product, Division, Floor Division, Modulus."
   ]
  },
  {
   "cell_type": "code",
   "execution_count": 79,
   "id": "0d74d5b1-38bc-4080-ba77-35ec386c6bd3",
   "metadata": {},
   "outputs": [
    {
     "name": "stdout",
     "output_type": "stream",
     "text": [
      "Sum: 19\n",
      "Difference: 11\n",
      "Product: 60\n",
      "Division: 3.75\n",
      "Floor Division: 3\n",
      "Modulus: 3\n"
     ]
    }
   ],
   "source": [
    "a=15\n",
    "b=4\n",
    "print('Sum:', a+b)\n",
    "print('Difference:', a-b)\n",
    "print('Product:', a*b)\n",
    "print('Division:', a/b)\n",
    "print('Floor Division:', a//b)\n",
    "print('Modulus:', a%b)"
   ]
  },
  {
   "cell_type": "markdown",
   "id": "b1efde5e-5810-46e3-aa2f-96de1f1a2a73",
   "metadata": {},
   "source": [
    "### Type Conversion"
   ]
  },
  {
   "cell_type": "raw",
   "id": "877ba616-31d5-4ed1-8413-e40256feb947",
   "metadata": {},
   "source": [
    "2. Convert the following: (num1 = 10, num2 = 5.6, num3 = 4.43)\n",
    "- Integer to float - Float to integer - Float to String"
   ]
  },
  {
   "cell_type": "code",
   "execution_count": 81,
   "id": "47126a03-e116-4e00-a894-2f0c6e7af202",
   "metadata": {},
   "outputs": [
    {
     "name": "stdout",
     "output_type": "stream",
     "text": [
      "Int to Float: 10.0\n",
      "Float to Int: 5\n",
      "Float to Str: 4.43\n"
     ]
    }
   ],
   "source": [
    "num1 = 10\n",
    "num2 = 5.6\n",
    "num3 = 4.43\n",
    "\n",
    "print('Int to Float:', float(num1))\n",
    "print('Float to Int:', int(num2))\n",
    "print('Float to Str:', str(num3))"
   ]
  },
  {
   "cell_type": "markdown",
   "id": "a75a4ce2-f7c5-4f58-964e-4d1f7a077a2e",
   "metadata": {},
   "source": [
    "### List Indexing"
   ]
  },
  {
   "cell_type": "raw",
   "id": "f43dff60-44c3-4c69-8318-d089a78c9388",
   "metadata": {},
   "source": [
    "3. fruits = [\"apple\", \"banana\", \"cherry\", \"coconut\", \"pineapple\", \"mango\", \"orange\"]\n",
    "Print below using indexing:\n",
    "- The first fruit - The last fruit (negative indexing) - The fourth fruit"
   ]
  },
  {
   "cell_type": "code",
   "execution_count": 83,
   "id": "659a64ac-2495-4d6f-ab12-5d3c29ed7725",
   "metadata": {},
   "outputs": [
    {
     "name": "stdout",
     "output_type": "stream",
     "text": [
      "First Fruit: apple\n",
      "Last Fruit: orange\n",
      "Fourth Fruit: coconut\n"
     ]
    }
   ],
   "source": [
    "fruits = [\"apple\", \"banana\", \"cherry\", \"coconut\", \"pineapple\", \"mango\", \"orange\"]\n",
    "print('First Fruit:', fruits[0])\n",
    "print('Last Fruit:', fruits[-1]) #negative indexing\n",
    "print('Fourth Fruit:', fruits[3])"
   ]
  },
  {
   "cell_type": "markdown",
   "id": "2b87e0be-90cd-4ae5-8ccb-a65f3245af0d",
   "metadata": {},
   "source": [
    "### List Slicing"
   ]
  },
  {
   "cell_type": "raw",
   "id": "9c3391d0-6bdb-4b23-b80f-2820a86cc57a",
   "metadata": {},
   "source": [
    "4. List Slicing - numbers = [10, 20, 30, 40, 50]\n",
    "Print:\n",
    "- First three elements - Last two elements - Print all elements except the first one \n",
    "- Print all elements except the last one - Print the list in reverse using slicing -  Print every second element"
   ]
  },
  {
   "cell_type": "code",
   "execution_count": 85,
   "id": "52232518-3ea5-4692-8e6e-ee0b13be25e2",
   "metadata": {},
   "outputs": [
    {
     "name": "stdout",
     "output_type": "stream",
     "text": [
      "First three elements: [10, 20, 30]\n",
      "Last two elements: [40, 50]\n",
      "All elements except the first one: [20, 30, 40, 50]\n",
      "All elements except the last one: [10, 20, 30, 40]\n",
      "List in reverse using slicing: [50, 40, 30, 20, 10]\n",
      "Every second element: [10, 30, 50]\n"
     ]
    }
   ],
   "source": [
    "numbers = [10, 20, 30, 40, 50]\n",
    "print('First three elements:', numbers[0:3])\n",
    "print('Last two elements:', numbers[-2:])\n",
    "print('All elements except the first one:', numbers[1:])\n",
    "print('All elements except the last one:', numbers[:-1])\n",
    "print('List in reverse using slicing:', numbers[::-1])\n",
    "print('Every second element:', numbers[::2])"
   ]
  },
  {
   "cell_type": "markdown",
   "id": "e9435174-7770-4e47-8de5-ca107063ddee",
   "metadata": {},
   "source": [
    "### List Methods (Append, Insert, Extend, Sort)"
   ]
  },
  {
   "cell_type": "markdown",
   "id": "cd821299-7d0c-4feb-a070-785b0f0bd5eb",
   "metadata": {},
   "source": [
    "##### Append"
   ]
  },
  {
   "cell_type": "raw",
   "id": "34cd6414-ac8e-4d41-a558-2028c142c061",
   "metadata": {},
   "source": [
    "5. Add the number 10 to the end of the list using method.\n",
    "nums = [1, 2, 3]"
   ]
  },
  {
   "cell_type": "code",
   "execution_count": 88,
   "id": "8aaa402c-11cc-42dd-8f1f-39caf57621c1",
   "metadata": {},
   "outputs": [
    {
     "name": "stdout",
     "output_type": "stream",
     "text": [
      "[1, 2, 3, 10]\n"
     ]
    }
   ],
   "source": [
    "nums = [1, 2, 3]\n",
    "nums.append(10)\n",
    "print(nums)"
   ]
  },
  {
   "cell_type": "markdown",
   "id": "6a4e091d-0667-43f5-aa5e-e3b20b9d0ebb",
   "metadata": {},
   "source": [
    "##### Insert"
   ]
  },
  {
   "cell_type": "raw",
   "id": "2f271a35-1e3e-469a-87b0-99181affc2fb",
   "metadata": {},
   "source": [
    "6. Insert the number 99 at index 1 using method.\n",
    "nums = [1, 2, 3]"
   ]
  },
  {
   "cell_type": "code",
   "execution_count": 90,
   "id": "4a8a1691-05a7-4ad9-8f07-4ca0ed26283d",
   "metadata": {},
   "outputs": [
    {
     "name": "stdout",
     "output_type": "stream",
     "text": [
      "[1, 99, 2, 3]\n"
     ]
    }
   ],
   "source": [
    "nums = [1, 2, 3]\n",
    "nums.insert(1,99)\n",
    "print(nums)"
   ]
  },
  {
   "cell_type": "markdown",
   "id": "6297323f-3ea4-445b-8e9b-83feeca6f002",
   "metadata": {},
   "source": [
    "##### Extend"
   ]
  },
  {
   "cell_type": "raw",
   "id": "430c4b33-588a-4c3b-9a9b-a36ba3e97b77",
   "metadata": {},
   "source": [
    "7.  Add the elements of another list [4, 5] to the original list using method\n",
    "nums = [1, 2, 3]"
   ]
  },
  {
   "cell_type": "code",
   "execution_count": 92,
   "id": "774a5c76-637e-4650-9bb0-dc0bf797f81f",
   "metadata": {},
   "outputs": [
    {
     "name": "stdout",
     "output_type": "stream",
     "text": [
      "[1, 2, 3, 4, 5]\n"
     ]
    }
   ],
   "source": [
    "nums = [1, 2, 3]\n",
    "nums.extend([4, 5])\n",
    "print(nums)"
   ]
  },
  {
   "cell_type": "markdown",
   "id": "8f96ab0a-02ec-4590-9599-2cc9265d6c29",
   "metadata": {},
   "source": [
    "##### Sort"
   ]
  },
  {
   "cell_type": "raw",
   "id": "0f4a5cc2-00a9-4bf1-b25c-336cb2a4bdbc",
   "metadata": {},
   "source": [
    "8.  Sort the list in ascending order using method\n",
    "nums = [4, 1, 3, 2]"
   ]
  },
  {
   "cell_type": "code",
   "execution_count": 94,
   "id": "3fa8a9d9-0375-48f3-8359-f665599a1403",
   "metadata": {},
   "outputs": [
    {
     "name": "stdout",
     "output_type": "stream",
     "text": [
      "[1, 2, 3, 4]\n"
     ]
    }
   ],
   "source": [
    "nums = [4, 1, 3, 2]\n",
    "nums.sort()\n",
    "print(nums)"
   ]
  },
  {
   "cell_type": "markdown",
   "id": "e07d1f40-8ea8-48a4-9f06-9240f7cd1d01",
   "metadata": {},
   "source": [
    "### Food Order Management"
   ]
  },
  {
   "cell_type": "raw",
   "id": "ab7aa73c-c7aa-4df0-9cfa-d30883f6185a",
   "metadata": {},
   "source": [
    "9. A customer orders several food items. Add the items to a list and then:\n",
    "order = [\"burger\", \"fries\", \"coke\"]\n",
    "- Add a new item \"ice cream\" using append()\n",
    "- Remove an item \"biryani\" using remove()\n",
    "- Show the final order"
   ]
  },
  {
   "cell_type": "code",
   "execution_count": 96,
   "id": "36385cc5-34d6-46fe-bc92-ea28af253ba4",
   "metadata": {},
   "outputs": [
    {
     "name": "stdout",
     "output_type": "stream",
     "text": [
      "['burger', 'fries', 'coke', 'ice cream']\n"
     ]
    }
   ],
   "source": [
    "order = [\"burger\", \"fries\", \"coke\"]\n",
    "order.append(\"ice cream\")\n",
    "# order.remove(\"biryani\") # error because it is not in the list (we will apply if-else condition)\n",
    "if \"biryani\" in order:\n",
    "    order.remove('biryani')\n",
    "print(order)"
   ]
  },
  {
   "cell_type": "markdown",
   "id": "f54a979f-0c93-474b-acc1-617f45fd3f1a",
   "metadata": {},
   "source": [
    "### Bus Passenger Tracking"
   ]
  },
  {
   "cell_type": "raw",
   "id": "66c7afec-66ff-45b9-82a2-9b8bdf7b43f1",
   "metadata": {},
   "source": [
    "10. Track passengers on a bus:\n",
    "passengers = [\"Ali\", \"Zara\", \"Ahmed\"]\n",
    "- Insert a new passenger \"Sara\" at position 2\n",
    "- Remove passenger who got off \"Zara\"\n",
    "- Reverse the order to show who entered first"
   ]
  },
  {
   "cell_type": "code",
   "execution_count": 98,
   "id": "711a169f-ed47-43a4-8612-46ff38bb2032",
   "metadata": {},
   "outputs": [
    {
     "name": "stdout",
     "output_type": "stream",
     "text": [
      "['Ali', 'Sara', 'Zara', 'Ahmed'] Postion 2 => index 1\n",
      "['Ali', 'Sara', 'Ahmed'] passenger removed\n",
      "After Reversing: ['Ahmed', 'Sara', 'Ali']\n"
     ]
    }
   ],
   "source": [
    "passengers = [\"Ali\", \"Zara\", \"Ahmed\"]\n",
    "passengers.insert(1, 'Sara')\n",
    "print(passengers, 'Postion 2 => index 1')\n",
    "passengers.remove('Zara')\n",
    "print(passengers, \"passenger removed\")\n",
    "passengers.reverse()\n",
    "print('After Reversing:', passengers)"
   ]
  },
  {
   "cell_type": "code",
   "execution_count": null,
   "id": "4f5b9c89-a542-49f0-b2c7-27275e7ba7d0",
   "metadata": {},
   "outputs": [],
   "source": []
  }
 ],
 "metadata": {
  "kernelspec": {
   "display_name": "Python [conda env:base] *",
   "language": "python",
   "name": "conda-base-py"
  },
  "language_info": {
   "codemirror_mode": {
    "name": "ipython",
    "version": 3
   },
   "file_extension": ".py",
   "mimetype": "text/x-python",
   "name": "python",
   "nbconvert_exporter": "python",
   "pygments_lexer": "ipython3",
   "version": "3.12.7"
  }
 },
 "nbformat": 4,
 "nbformat_minor": 5
}
